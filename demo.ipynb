{
 "metadata": {
  "language_info": {
   "codemirror_mode": {
    "name": "ipython",
    "version": 3
   },
   "file_extension": ".py",
   "mimetype": "text/x-python",
   "name": "python",
   "nbconvert_exporter": "python",
   "pygments_lexer": "ipython3",
   "version": 3
  },
  "orig_nbformat": 4
 },
 "nbformat": 4,
 "nbformat_minor": 2,
 "cells": [
  {
   "cell_type": "code",
   "execution_count": null,
   "metadata": {},
   "outputs": [],
   "source": [
    "import paho.mqtt.client as mqtt\n",
    "import time\n",
    "\n",
    "def on_message(client, userdata, message):\n",
    "    print(\"received message: \" ,str(message.payload.decode(\"utf-8\")))\n",
    "\n",
    "mqttBroker =\"localhost\"\n",
    "\n",
    "client = mqtt.Client(\"Smartphone\")\n",
    "client.connect(mqttBroker) \n",
    "\n",
    "client.loop_start()\n",
    "\n",
    "client.subscribe(\"TEMPERATURE\")\n",
    "client.on_message=on_message \n",
    "\n",
    "time.sleep(30)\n",
    "client.loop_stop()"
   ]
  },
  {
   "cell_type": "code",
   "execution_count": null,
   "metadata": {},
   "outputs": [],
   "source": []
  }
 ]
}